{
 "cells": [
  {
   "cell_type": "code",
   "execution_count": 3,
   "metadata": {},
   "outputs": [],
   "source": [
    "from sklearn.feature_extraction.text import CountVectorizer\n",
    "from sklearn.feature_extraction.text import TfidfVectorizer"
   ]
  },
  {
   "cell_type": "code",
   "execution_count": 14,
   "metadata": {},
   "outputs": [],
   "source": [
    "vect=TfidfVectorizer(binary=True)"
   ]
  },
  {
   "cell_type": "code",
   "execution_count": 18,
   "metadata": {
    "scrolled": true
   },
   "outputs": [
    {
     "data": {
      "text/plain": [
       "'Summer is a charming flirt. Easy-going and casual. Summer doesn.t huff and puff to win our affections. It has us at \"Hellow\". Winter broods like the tortured protagonist of big fat Russian novel. It is dauting and dramatic, burning with a slow intensity.\\nThe season\\'s reputation precedes itself,and ofteb, not in a good way. It has a way of whittling down everything to its bare bones. Even relationship not attuned to its ebbs and flows can fray. At a dinner conversation I once attended.I listened in bemusement as a recent divorcee made the case that it was the Scandinavian frost that had cooled his ex-wife\\'s ardour. How original.'"
      ]
     },
     "execution_count": 18,
     "metadata": {},
     "output_type": "execute_result"
    }
   ],
   "source": [
    "f1=open(\"C:/Users/hp/Desktop/file1.txt\",\"r\")\n",
    "example1=f1.read()\n",
    "example1"
   ]
  },
  {
   "cell_type": "code",
   "execution_count": 19,
   "metadata": {},
   "outputs": [
    {
     "data": {
      "text/plain": [
       "'If there is a phrase I would prefer to retire from online bios, personal and professional, it is, “I love travel.” Or some proximation of that sentiment. To clarify, I’m not against travelers and those who proudly flaunt their passion for travel. On the contrary, editing a travel magazine has now made me oddly protective of travelers and their ilk. My submission is that “ love to travel,” suggesting so casually, just doesn’t feel adequate to the depth of emotion it sparks in true devotees.'"
      ]
     },
     "execution_count": 19,
     "metadata": {},
     "output_type": "execute_result"
    }
   ],
   "source": [
    "f2=open(\"C:/Users/hp/Desktop/file3.txt\",\"r\")\n",
    "example2=f2.read()\n",
    "example2"
   ]
  },
  {
   "cell_type": "code",
   "execution_count": 29,
   "metadata": {},
   "outputs": [
    {
     "data": {
      "text/plain": [
       "TfidfVectorizer(analyzer='word', binary=True, decode_error='strict',\n",
       "        dtype=<class 'numpy.int64'>, encoding='utf-8', input='content',\n",
       "        lowercase=True, max_df=1.0, max_features=None, min_df=1,\n",
       "        ngram_range=(1, 1), norm='l2', preprocessor=None, smooth_idf=True,\n",
       "        stop_words=None, strip_accents=None, sublinear_tf=False,\n",
       "        token_pattern='(?u)\\\\b\\\\w\\\\w+\\\\b', tokenizer=None, use_idf=True,\n",
       "        vocabulary=None)"
      ]
     },
     "execution_count": 29,
     "metadata": {},
     "output_type": "execute_result"
    }
   ],
   "source": [
    "f=open(\"C:/Users/hp/Desktop/file.txt\",\"r\")\n",
    "example=f.read()\n",
    "corpus=[example,example2]\n",
    "vect.fit(corpus)"
   ]
  },
  {
   "cell_type": "code",
   "execution_count": 30,
   "metadata": {},
   "outputs": [],
   "source": [
    "from sklearn.metrics.pairwise import cosine_similarity"
   ]
  },
  {
   "cell_type": "code",
   "execution_count": 31,
   "metadata": {},
   "outputs": [
    {
     "name": "stdout",
     "output_type": "stream",
     "text": [
      "[[0.31005704]]\n"
     ]
    }
   ],
   "source": [
    "similarity=cosine_similarity(vect.transform([example1]).toarray(),vect.transform([example2]).toarray())\n",
    "print(similarity)"
   ]
  },
  {
   "cell_type": "code",
   "execution_count": null,
   "metadata": {},
   "outputs": [],
   "source": []
  }
 ],
 "metadata": {
  "kernelspec": {
   "display_name": "Python 3",
   "language": "python",
   "name": "python3"
  },
  "language_info": {
   "codemirror_mode": {
    "name": "ipython",
    "version": 3
   },
   "file_extension": ".py",
   "mimetype": "text/x-python",
   "name": "python",
   "nbconvert_exporter": "python",
   "pygments_lexer": "ipython3",
   "version": "3.7.0"
  }
 },
 "nbformat": 4,
 "nbformat_minor": 2
}
